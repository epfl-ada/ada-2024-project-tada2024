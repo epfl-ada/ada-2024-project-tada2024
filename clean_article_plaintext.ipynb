{
 "cells": [
  {
   "cell_type": "code",
   "execution_count": 30,
   "metadata": {},
   "outputs": [],
   "source": [
    "import os\n",
    "from glob import glob\n",
    "from bs4 import BeautifulSoup\n",
    "from tqdm import tqdm\n",
    "from src.downloader import download_dataset"
   ]
  },
  {
   "cell_type": "code",
   "execution_count": 31,
   "metadata": {},
   "outputs": [],
   "source": [
    "# configurations\n",
    "download = False\n",
    "dataset_dir = \"./dataset\"\n",
    "source_dir = './dataset/wpcd/wp'\n",
    "plaintext_output_dir = './output/clean_plaintext_articles'"
   ]
  },
  {
   "cell_type": "code",
   "execution_count": 32,
   "metadata": {},
   "outputs": [],
   "source": [
    "if download:\n",
    "    download_dataset(dataset_dir)"
   ]
  },
  {
   "cell_type": "code",
   "execution_count": null,
   "metadata": {},
   "outputs": [],
   "source": [
    "def extract_html_to_txt(source_folder, output_folder, valid_article_names):\n",
    "    \"\"\"\n",
    "    Function to extract text from HTML files and save them as .txt.\n",
    "    To do the cleaning, the function takes the html file, and reads only the innertext of <p> tags. This will remove redundant initial texts we find in the plaintext comes originally with the dataset.\n",
    "    \"\"\"\n",
    "    if os.path.exists(output_folder):\n",
    "        os.rmdir(plaintext_output_dir)\n",
    "    os.makedirs(output_folder)\n",
    "\n",
    "    # Get list of all HTML files, excluding those in the \"index\" subfolder\n",
    "    html_files = glob(f'{source_folder}/**/*.htm', recursive=True)\n",
    "    html_files = [f for f in html_files if 'index' not in f.split(os.sep)]\n",
    "\n",
    "    for html_file_path in tqdm(html_files):\n",
    "        article_name = os.path.splitext(os.path.basename(html_file_path))[0]\n",
    "        if article_name not in valid_article_names:\n",
    "            continue\n",
    "        output_file_path = os.path.join(output_folder, article_name + '.txt')\n",
    "        \n",
    "        # Read HTML file and extract text from <p> tags\n",
    "        with open(html_file_path, 'r', encoding='utf-8', errors='ignore') as html_file:\n",
    "            soup = BeautifulSoup(html_file, 'html.parser')\n",
    "            paragraphs = soup.find_all('p')\n",
    "            plain_text = \"\\n\".join([p.get_text() for p in paragraphs])\n",
    "        \n",
    "        with open(output_file_path, 'w', encoding='utf-8') as txt_file:\n",
    "            txt_file.write(plain_text)"
   ]
  },
  {
   "cell_type": "code",
   "execution_count": null,
   "metadata": {},
   "outputs": [
    {
     "name": "stderr",
     "output_type": "stream",
     "text": [
      "100%|██████████| 5232/5232 [01:38<00:00, 53.21it/s] \n"
     ]
    },
    {
     "ename": "",
     "evalue": "",
     "output_type": "error",
     "traceback": [
      "\u001b[1;31mThe Kernel crashed while executing code in the current cell or a previous cell. \n",
      "\u001b[1;31mPlease review the code in the cell(s) to identify a possible cause of the failure. \n",
      "\u001b[1;31mClick <a href='https://aka.ms/vscodeJupyterKernelCrash'>here</a> for more info. \n",
      "\u001b[1;31mView Jupyter <a href='command:jupyter.viewOutput'>log</a> for further details."
     ]
    }
   ],
   "source": [
    "# There are additional .htm files in the wpcd directory. We will get the list of valid article names from articles.tsv to select the correct html files later\n",
    "article_list_path = os.path.join(dataset_dir,\"wikispeedia_paths-and-graph\",\"articles.tsv\")\n",
    "article_names = []\n",
    "with open(article_list_path, 'r') as file:\n",
    "    for line in file:\n",
    "        if line.startswith('#'):\n",
    "            continue\n",
    "        stripped_line = line.strip()\n",
    "        if stripped_line:\n",
    "            article_names.append(stripped_line)\n",
    "\n",
    "extract_html_to_txt(source_dir, plaintext_output_dir, article_names)"
   ]
  }
 ],
 "metadata": {
  "kernelspec": {
   "display_name": "venv",
   "language": "python",
   "name": "python3"
  },
  "language_info": {
   "codemirror_mode": {
    "name": "ipython",
    "version": 3
   },
   "file_extension": ".py",
   "mimetype": "text/x-python",
   "name": "python",
   "nbconvert_exporter": "python",
   "pygments_lexer": "ipython3",
   "version": "3.12.5"
  }
 },
 "nbformat": 4,
 "nbformat_minor": 2
}
