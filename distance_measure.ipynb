{
 "cells": [
  {
   "cell_type": "code",
   "execution_count": 1,
   "metadata": {},
   "outputs": [],
   "source": [
    "import math\n",
    "from collections import defaultdict\n",
    "\n",
    "import networkx as nx\n",
    "import pandas as pd\n",
    "\n",
    "articles_file_path = \"data/wikispeedia/wikispeedia_paths-and-graph/articles.tsv\"\n",
    "paths_file_path = \"data/wikispeedia/wikispeedia_paths-and-graph/paths_finished.tsv\"\n",
    "links_file_path = \"data/wikispeedia/wikispeedia_paths-and-graph/links.tsv\"\n",
    "alpha = 1 / 5"
   ]
  },
  {
   "cell_type": "code",
   "execution_count": 2,
   "metadata": {},
   "outputs": [],
   "source": [
    "# Read articles\n",
    "tsv_content = \"\"\n",
    "with open(articles_file_path, \"r\") as f:\n",
    "    tsv_content = f.read()\n",
    "\n",
    "lines = tsv_content.strip().split(\"\\n\")\n",
    "articles = []\n",
    "for line in lines:\n",
    "    if not line or line.strip().startswith(\"#\"):\n",
    "        continue\n",
    "    articles.append(line)"
   ]
  },
  {
   "cell_type": "code",
   "execution_count": 3,
   "metadata": {},
   "outputs": [
    {
     "name": "stdout",
     "output_type": "stream",
     "text": [
      "51318 paths processed.\n"
     ]
    }
   ],
   "source": [
    "# Read finished paths \n",
    "tsv_content = \"\"\n",
    "with open(paths_file_path, \"r\") as f:\n",
    "    tsv_content = f.read()\n",
    "\n",
    "lines = tsv_content.strip().split(\"\\n\")\n",
    "\n",
    "# List to store the final processed lists from the fourth column\n",
    "processed_paths = []\n",
    "for line in lines:\n",
    "    if not line or line.strip().startswith(\"#\"):\n",
    "        continue  # Skip empty lines and comments\n",
    "    columns = line.split(\"\\t\")\n",
    "    if len(columns) >= 4:\n",
    "        items = columns[3].split(\";\") # Get the \"path\" column\n",
    "        processed_path = []\n",
    "        for item in items:\n",
    "            if item == \"<\":\n",
    "                processed_path.pop()\n",
    "            else:\n",
    "                processed_path.append(item)\n",
    "        processed_paths.append(processed_path)\n",
    "\n",
    "print(f\"{len(processed_paths)} paths processed.\")"
   ]
  },
  {
   "cell_type": "code",
   "execution_count": 4,
   "metadata": {},
   "outputs": [],
   "source": [
    "# Calculate N(A, G)\n",
    "N_precalc = defaultdict(int)\n",
    "for path in processed_paths:\n",
    "    goal = path[-1]\n",
    "    for i in range(len(path) - 1):\n",
    "        N_precalc[(path[i], goal)] += 1\n",
    "\n",
    "# Calculate N(A', A, G)\n",
    "N_prime_precalc = defaultdict(int)\n",
    "for path in processed_paths:\n",
    "    goal = path[-1]\n",
    "    for i in range(len(path) - 1):\n",
    "        N_prime_precalc[(path[i + 1], path[i], goal)] += 1"
   ]
  },
  {
   "cell_type": "code",
   "execution_count": 5,
   "metadata": {},
   "outputs": [],
   "source": [
    "# Calc outlinks\n",
    "tsv_content = \"\"\n",
    "with open(links_file_path, \"r\") as f:\n",
    "    tsv_content = f.read()\n",
    "\n",
    "lines = tsv_content.strip().split(\"\\n\")\n",
    "\n",
    "outlinks = {article: set() for article in articles}\n",
    "for line in lines:\n",
    "    if not line or line.strip().startswith(\"#\"):\n",
    "        continue  # Skip empty lines and comments\n",
    "    columns = line.split(\"\\t\")\n",
    "    outlinks[columns[0]].add(columns[1])\n",
    "\n",
    "L_a = {key: len(value) for key, value in outlinks.items()}"
   ]
  },
  {
   "cell_type": "code",
   "execution_count": 6,
   "metadata": {},
   "outputs": [],
   "source": [
    "# Calc pagerank\n",
    "graph = nx.graph.Graph()\n",
    "\n",
    "# Add edges from the adjacency list\n",
    "for node, neighbors in outlinks.items():\n",
    "    if not node in graph.nodes:\n",
    "        graph.add_node(node)\n",
    "    for neighbor in neighbors:\n",
    "        graph.add_edge(node, neighbor)\n",
    "\n",
    "pageranks = nx.pagerank(graph)"
   ]
  },
  {
   "cell_type": "code",
   "execution_count": 7,
   "metadata": {},
   "outputs": [],
   "source": [
    "# Calc d_p\n",
    "def P_star(A_prime, A, G):\n",
    "    return (N_prime_precalc.get((A_prime, A, G), 0) + alpha) / (\n",
    "        N_precalc.get((A, G), 0) + alpha * L_a[A]\n",
    "    )\n",
    "\n",
    "\n",
    "dp = defaultdict(list)\n",
    "for path in processed_paths:\n",
    "    goal = path[-1]\n",
    "    for i in range(len(path) - 1):\n",
    "        dp[(path[i], goal)].append(\n",
    "            sum(\n",
    "                [\n",
    "                    math.log2(P_star(path[j + 1], path[j], goal))\n",
    "                    for j in range(i, len(path) - 1)\n",
    "                ]\n",
    "            )\n",
    "            / math.log2(pageranks[goal])\n",
    "        )"
   ]
  },
  {
   "cell_type": "code",
   "execution_count": 8,
   "metadata": {},
   "outputs": [],
   "source": [
    "d = {key: sum(value) / len(value) for key, value in dp.items()}"
   ]
  },
  {
   "cell_type": "code",
   "execution_count": null,
   "metadata": {},
   "outputs": [],
   "source": [
    "# Some manual tests\n",
    "tests = [\n",
    "    (\"Minneapolis%2C_Minnesota\", \"Minnesota\"),\n",
    "    (\"Minnesota\", \"Minneapolis%2C_Minnesota\"),\n",
    "    (\"Linguistics\", \"Noam_Chomsky\"),\n",
    "    (\"Language\", \"Noam_Chomsky\"),\n",
    "    (\"Music\", \"Noam_Chomsky\"),\n",
    "    (\"Television\", \"Noam_Chomsky\"),\n",
    "    (\"Education_in_the_United_States\", \"Noam_Chomsky\"),\n",
    "]\n",
    "\n",
    "# Some tests for articles like (a, b) for which we have the distance of (a, b) and (b, a)\n",
    "for a, b in d.keys():\n",
    "    if (b, a) in d.keys():\n",
    "        tests.append((a, b))\n",
    "        tests.append((b, a))\n",
    "\n",
    "tests = pd.DataFrame(tests, columns=[\"a\", \"b\"])\n",
    "tests[\"distance\"] = tests[[\"a\", \"b\"]].apply(lambda x: d[(x[\"a\"], x[\"b\"])], axis=1)\n",
    "tests.to_csv(\"distances.csv\")"
   ]
  },
  {
   "cell_type": "code",
   "execution_count": null,
   "metadata": {},
   "outputs": [
    {
     "data": {
      "image/png": "[encoded data removed]",
      "text/plain": [
       "<Figure size 1000x600 with 1 Axes>"
      ]
     },
     "metadata": {},
     "output_type": "display_data"
    }
   ],
   "source": [
    "# Calculate information gain for each step in paths as proposed by the article(Probably not working properly)\n",
    "inf_gain_list = []\n",
    "for _ in range(7):\n",
    "    inf_gain_list.append([])\n",
    "\n",
    "for path in processed_paths[0:1600]:\n",
    "    for i in range(len(path) - 1):\n",
    "        A = path[i]\n",
    "        A_prime = path[i + 1]\n",
    "        G = path[-1]\n",
    "\n",
    "        # Calculate probabilities\n",
    "        p_star = P_star(A_prime, A, G)\n",
    "        H0 = -(1 / L_a[A]) * math.log2(1 / L_a[A]) if L_a[A] > 0 else 0\n",
    "        H_star = -sum(\n",
    "            [\n",
    "                P_star(A_next, A, G) * math.log2(P_star(A_next, A, G))\n",
    "                for A_next in outlinks[A]\n",
    "            ]\n",
    "        )\n",
    "\n",
    "        # Calculate information gain\n",
    "        information_gain = H0 - H_star\n",
    "\n",
    "        if i / (len(path) - 1) <= (1 / 7):\n",
    "            inf_gain_list[0].append(information_gain)\n",
    "        elif i / (len(path) - 1) <= (2 / 7):\n",
    "            inf_gain_list[1].append(information_gain)\n",
    "        elif i / (len(path) - 1) <= (3 / 7):\n",
    "            inf_gain_list[2].append(information_gain)\n",
    "        elif i / (len(path) - 1) <= (4 / 7):\n",
    "            inf_gain_list[3].append(information_gain)\n",
    "        elif i / (len(path) - 1) <= (5 / 7):\n",
    "            inf_gain_list[4].append(information_gain)\n",
    "        elif i / (len(path) - 1) <= (6 / 7):\n",
    "            inf_gain_list[5].append(information_gain)\n",
    "        elif i / (len(path) - 1) <= (7 / 7):\n",
    "            inf_gain_list[6].append(information_gain)\n",
    "\n",
    "import matplotlib.pyplot as plt\n",
    "\n",
    "avg_inf_gain = []\n",
    "for i, l in enumerate(inf_gain_list):\n",
    "    avg_inf_gain.append([])\n",
    "    avg_inf_gain[i] = sum(l) / len(l)\n",
    "\n",
    "# Plot\n",
    "plt.figure(figsize=(10, 6))\n",
    "plt.plot(avg_inf_gain)\n",
    "plt.grid(True)\n",
    "plt.show()"
   ]
  }
 ],
 "metadata": {
  "kernelspec": {
   "display_name": "ada_3",
   "language": "python",
   "name": "python3"
  },
  "language_info": {
   "codemirror_mode": {
    "name": "ipython",
    "version": 3
   },
   "file_extension": ".py",
   "mimetype": "text/x-python",
   "name": "python",
   "nbconvert_exporter": "python",
   "pygments_lexer": "ipython3",
   "version": "3.10.15"
  }
 },
 "nbformat": 4,
 "nbformat_minor": 2
}
