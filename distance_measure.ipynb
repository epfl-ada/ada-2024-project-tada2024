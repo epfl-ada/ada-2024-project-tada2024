{
 "cells": [
  {
   "cell_type": "code",
   "execution_count": 1,
   "metadata": {},
   "outputs": [],
   "source": [
    "import math\n",
    "from collections import defaultdict\n",
    "\n",
    "import networkx as nx\n",
    "import pandas as pd\n",
    "\n",
    "articles_file_path = \"data/wikispeedia/wikispeedia_paths-and-graph/articles.tsv\"\n",
    "paths_file_path = \"data/wikispeedia/wikispeedia_paths-and-graph/paths_finished.tsv\"\n",
    "links_file_path = \"data/wikispeedia/wikispeedia_paths-and-graph/links.tsv\"\n"
   ]
  },
  {
   "cell_type": "markdown",
   "metadata": {},
   "source": [
    "this is an attempt at reimplementing the semantic distance between wikipeedia articles presented in [West, Pineau, Precup ; Wikispeedia: An Online Game for Inferring Semantic Distances between Concepts](http://infolab.stanford.edu/~west1/pubs/West-Pineau-Precup_IJCAI-09.pdf)"
   ]
  },
  {
   "cell_type": "markdown",
   "metadata": {},
   "source": [
    "## Implementation of the distance"
   ]
  },
  {
   "cell_type": "code",
   "execution_count": 2,
   "metadata": {},
   "outputs": [],
   "source": [
    "# Read articles\n",
    "tsv_content = \"\"\n",
    "with open(articles_file_path, \"r\") as f:\n",
    "    tsv_content = f.read()\n",
    "\n",
    "lines = tsv_content.strip().split(\"\\n\")\n",
    "articles = []\n",
    "for line in lines:\n",
    "    if not line or line.strip().startswith(\"#\"):\n",
    "        continue\n",
    "    articles.append(line)"
   ]
  },
  {
   "cell_type": "code",
   "execution_count": 3,
   "metadata": {},
   "outputs": [
    {
     "name": "stdout",
     "output_type": "stream",
     "text": [
      "51318 paths processed.\n"
     ]
    }
   ],
   "source": [
    "# Read finished paths \n",
    "tsv_content = \"\"\n",
    "with open(paths_file_path, \"r\") as f:\n",
    "    tsv_content = f.read()\n",
    "\n",
    "lines = tsv_content.strip().split(\"\\n\")\n",
    "\n",
    "# List to store the final processed lists from the fourth column\n",
    "processed_paths = []\n",
    "for line in lines:\n",
    "    if not line or line.strip().startswith(\"#\"):\n",
    "        continue  # Skip empty lines and comments\n",
    "    columns = line.split(\"\\t\")\n",
    "    if len(columns) >= 4:\n",
    "        items = columns[3].split(\";\") # Get the \"path\" column\n",
    "        processed_path = []\n",
    "        for item in items:\n",
    "            if item == \"<\":\n",
    "                processed_path.pop()\n",
    "            else:\n",
    "                processed_path.append(item)\n",
    "        processed_paths.append(processed_path)\n",
    "\n",
    "print(f\"{len(processed_paths)} paths processed.\")"
   ]
  },
  {
   "cell_type": "markdown",
   "metadata": {},
   "source": [
    "we are interested in P(A′ |A = a, G = g):\n",
    "For each article a′ that can be reached in one hop from a, the probability that a player continues to a′ if he/she is currently on a and is trying to find goal article g\n",
    "\n",
    "\n",
    "This can be estimated from the observed games using standard Bayesian methods, as the mean of the Dirichlet distribution which is the conjugate prior of P(A′ |A = a, G = g)\n",
    "\n",
    "We use P∗ to denote the posterior click probability estimated after seeing all the data:\n",
    "P∗(A′ = a′ |A = a, G = g) = (N(A′ = a′, A = a, G = g) + α) / (N(A = a, G = g) + αL_a)\n"
   ]
  },
  {
   "cell_type": "code",
   "execution_count": 4,
   "metadata": {},
   "outputs": [],
   "source": [
    "# Calculate N(A = a, G = g)\n",
    "N_precalc = defaultdict(int)\n",
    "for path in processed_paths:\n",
    "    goal = path[-1]\n",
    "    for i in range(len(path) - 1):\n",
    "        N_precalc[(path[i], goal)] += 1\n",
    "\n",
    "# Calculate N(A' = a', A = a, G = g)\n",
    "N_prime_precalc = defaultdict(int)\n",
    "for path in processed_paths:\n",
    "    goal = path[-1]\n",
    "    for i in range(len(path) - 1):\n",
    "        N_prime_precalc[(path[i + 1], path[i], goal)] += 1"
   ]
  },
  {
   "cell_type": "code",
   "execution_count": 5,
   "metadata": {},
   "outputs": [],
   "source": [
    "# Calc outlinks L_a\n",
    "tsv_content = \"\"\n",
    "with open(links_file_path, \"r\") as f:\n",
    "    tsv_content = f.read()\n",
    "\n",
    "lines = tsv_content.strip().split(\"\\n\")\n",
    "\n",
    "outlinks = {article: set() for article in articles}\n",
    "for line in lines:\n",
    "    if not line or line.strip().startswith(\"#\"):\n",
    "        continue  # Skip empty lines and comments\n",
    "    columns = line.split(\"\\t\")\n",
    "    outlinks[columns[0]].add(columns[1])\n",
    "\n",
    "L_a = {key: len(value) for key, value in outlinks.items()}"
   ]
  },
  {
   "cell_type": "code",
   "execution_count": 6,
   "metadata": {},
   "outputs": [],
   "source": [
    "# Calc pagerank\n",
    "graph = nx.graph.Graph()\n",
    "\n",
    "# Add edges from the adjacency list\n",
    "for node, neighbors in outlinks.items():\n",
    "    if not node in graph.nodes:\n",
    "        graph.add_node(node)\n",
    "    for neighbor in neighbors:\n",
    "        graph.add_edge(node, neighbor)\n",
    "\n",
    "pageranks = nx.pagerank(graph)"
   ]
  },
  {
   "cell_type": "code",
   "execution_count": 7,
   "metadata": {},
   "outputs": [],
   "source": [
    "alpha = 1 / 5"
   ]
  },
  {
   "cell_type": "markdown",
   "metadata": {},
   "source": [
    "α is the Dirichlet parameter representing the initial confidence in the uniform prior distribution\n",
    "\n",
    "Before observing any games (i.e. if all N-counts are zero) the estimate is the uniform prior click probability: P0(A′ = a′ |A = a, G = g) = 1/La\n",
    "\n",
    "\n",
    "We can compute a path-specific distance from every article a_i along p to the goal g, i.e. for every i with 1 ≤ i < n we get:\n",
    "dp(a_i, g) = − ∑n−1,j=i(logP∗(A′ = a_j+1|A = a_j, G = g)) / (− logPageRank(g))\n"
   ]
  },
  {
   "cell_type": "code",
   "execution_count": 8,
   "metadata": {},
   "outputs": [],
   "source": [
    "# Calc d_p\n",
    "def P_star(A_prime, A, G):\n",
    "    return (N_prime_precalc.get((A_prime, A, G), 0) + alpha) / (\n",
    "        N_precalc.get((A, G), 0) + alpha * L_a[A]\n",
    "    )\n",
    "\n",
    "\n",
    "dp = defaultdict(list)\n",
    "for path in processed_paths:\n",
    "    goal = path[-1]\n",
    "    for i in range(len(path) - 1):\n",
    "        dp[(path[i], goal)].append(\n",
    "            sum(\n",
    "                [\n",
    "                    math.log2(P_star(path[j + 1], path[j], goal))\n",
    "                    for j in range(i, len(path) - 1)\n",
    "                ]\n",
    "            )\n",
    "            / math.log2(pageranks[goal])\n",
    "        )"
   ]
  },
  {
   "cell_type": "markdown",
   "metadata": {},
   "source": [
    "To get a path-independent distance from a to g, we simply average over all paths running through a and reaching goal g. "
   ]
  },
  {
   "cell_type": "code",
   "execution_count": 9,
   "metadata": {},
   "outputs": [],
   "source": [
    "dist = {key: sum(value) / len(value) for key, value in dp.items()}"
   ]
  },
  {
   "cell_type": "code",
   "execution_count": 10,
   "metadata": {},
   "outputs": [],
   "source": [
    "# Some manual tests\n",
    "tests = [\n",
    "    (\"Minneapolis%2C_Minnesota\", \"Minnesota\"),\n",
    "    (\"Minnesota\", \"Minneapolis%2C_Minnesota\"),\n",
    "    (\"Linguistics\", \"Noam_Chomsky\"),\n",
    "    (\"Language\", \"Noam_Chomsky\"),\n",
    "    (\"Music\", \"Noam_Chomsky\"),\n",
    "    (\"Television\", \"Noam_Chomsky\"),\n",
    "    (\"Education_in_the_United_States\", \"Noam_Chomsky\"),\n",
    "]\n",
    "\n",
    "# Some tests for articles like (a, b) for which we have the distance of (a, b) and (b, a)\n",
    "for a, b in dist.keys():\n",
    "    if (b, a) in dist.keys():\n",
    "        tests.append((a, b))\n",
    "        tests.append((b, a))\n",
    "\n",
    "tests = pd.DataFrame(tests, columns=[\"a\", \"b\"])\n",
    "tests[\"distance\"] = tests[[\"a\", \"b\"]].apply(lambda x: dist[(x[\"a\"], x[\"b\"])], axis=1)\n",
    "tests.to_csv(\"distances.csv\")"
   ]
  },
  {
   "cell_type": "markdown",
   "metadata": {},
   "source": [
    "We need to filter unrelated concepts by cutting the path in the 2 steps 'get away to hub' , 'then home in on goal' and noticing that the 'get away to hub' phase gives irrelevant information.\n",
    "\n",
    "The original paper trains a model to predict a cut based on human annotated data that are not available to us, so we simply use the information gain test to find a general value on which to perform this cut."
   ]
  },
  {
   "cell_type": "code",
   "execution_count": 11,
   "metadata": {},
   "outputs": [
    {
     "data": {
      "image/png": "[encoded data removed]",
      "text/plain": [
       "<Figure size 1000x600 with 1 Axes>"
      ]
     },
     "metadata": {},
     "output_type": "display_data"
    }
   ],
   "source": [
    "# Calculate information gain for each step in paths as proposed by the article(Probably not working properly)\n",
    "inf_gain_list = []\n",
    "batch_precision = 7\n",
    "for _ in range(batch_precision):\n",
    "    inf_gain_list.append([])\n",
    "\n",
    "for path in processed_paths[0:1600]:\n",
    "    for i in range(len(path) - 1):\n",
    "        A = path[i]\n",
    "        A_prime = path[i + 1]\n",
    "        G = path[-1]\n",
    "\n",
    "        # Calculate probabilities\n",
    "        p_star = P_star(A_prime, A, G)\n",
    "        H0 = -math.log2(1 / L_a[A]) if L_a[A] > 0 else 0\n",
    "        H_star = -sum(\n",
    "            [\n",
    "                P_star(A_next, A, G) * math.log2(P_star(A_next, A, G))\n",
    "                for A_next in outlinks[A]\n",
    "            ]\n",
    "        )\n",
    "\n",
    "        # Calculate information gain\n",
    "        information_gain = H0 - H_star\n",
    "\n",
    "        normalised_distance_to_goal = i / (len(path) - 1)\n",
    "        index = math.floor(normalised_distance_to_goal * batch_precision)\n",
    "        inf_gain_list[index].append(information_gain)\n",
    "        \n",
    "\n",
    "import matplotlib.pyplot as plt\n",
    "\n",
    "avg_inf_gain = []\n",
    "for i, l in enumerate(inf_gain_list):\n",
    "    avg_inf_gain.append([])\n",
    "    avg_inf_gain[i] = sum(l) / len(l)\n",
    "\n",
    "# Plot\n",
    "plt.figure(figsize=(10, 6))\n",
    "plt.plot(avg_inf_gain)\n",
    "plt.grid(True)\n",
    "plt.show()"
   ]
  },
  {
   "cell_type": "markdown",
   "metadata": {},
   "source": [
    "We can see that the average information gain is dropping up to 3/7th of the path before rising.\n",
    "This clearly distinguishes between the two phases, therefore the cut should be performed at 3/7 of the normalised path distance.\n",
    "\n",
    "we recompute the distance by ignoring the 'get away to hub' stage"
   ]
  },
  {
   "cell_type": "code",
   "execution_count": 12,
   "metadata": {},
   "outputs": [],
   "source": [
    "cut = 3/7\n",
    "\n",
    "dp_cut = defaultdict(list)\n",
    "for path in processed_paths:\n",
    "    goal = path[-1]\n",
    "    cut_index = int(len(path) * cut)\n",
    "    for i in range(cut_index, len(path) - 1):\n",
    "        dp_cut[(path[i], goal)].append(\n",
    "            sum(\n",
    "                [\n",
    "                    math.log2(P_star(path[j + 1], path[j], goal))\n",
    "                    for j in range(i, len(path) - 1)\n",
    "                ]\n",
    "            )\n",
    "            / math.log2(pageranks[goal])\n",
    "        )\n",
    "\n",
    "d = {key: sum(value) / len(value) for key, value in dp_cut.items()}"
   ]
  },
  {
   "cell_type": "markdown",
   "metadata": {},
   "source": [
    "## Evaluation of the distance"
   ]
  },
  {
   "cell_type": "markdown",
   "metadata": {},
   "source": [
    "Quoting the original paper :\n",
    "\n",
    "> An important property of our proposed distance measure is that it is not symmetric:\n",
    "> in general, d(a, b) != d(b, a) (hence, it is not a distance in the strict geometric sense). \n",
    "> Although it could be easily symmetrized (e.g. by taking min{d(a, b), d(b, a)}), we do not do this,\n",
    "> because asymmetry can be a desirable feature for psychological as well as philosophical reasons [Tversky, 1977].\n",
    "> For instance, d(MINNEAPOLIS, MINNESOTA) = 0.22, while d(MINNESOTA, MINNEAPOLIS) = 0.12. \n",
    "> Intuitively, this makes sense: when one thinks of MINNEAPOLIS , MINNESOTA is probably one of the first associations,\n",
    "> because MINNEAPOLIS is in MINNESOTA. On the flip side, there are many other places in M INNESOTA one could think of, \n",
    "> e.g. S T. PAUL , so when thinking of MINNESOTA , MINNEAPOLIS is not as predominant an association.\n",
    "> We note that this asymmetry could perhaps be exploited to label concept relationships with their type (e.g. ‘is-part-of’).\n",
    "> However, we donot address this issue here.\n",
    "\n",
    "We are going to leverage this idea to extract a hierarchical structure out of the articles. Creating a tree of 'is-part-of' relationships.\n",
    "\n",
    "For every pair of articles a,b if both d(a,b) and d(b,a) exist, we add a and b to a set of nodes and create a directed edge between a and b.\n",
    "the edges represent the 'is part of' relationship, therefore if d(a,b) > d(b,a) the edge will be oriented from a towards b, reversed otherwise.\n",
    "The edge will be assigned a weight that corresponds to how relevant the relationship is : we want to reward high assymetries = maximise d(a,b) - d(b,a), and reward relatedness = minimise d(a,b).\n",
    "The motivation behind this is that similar topics like cat,dog will have small distances between each other but low assymmetry. On the other hand highly unrelated topics like cat,declaration_of_independence are likely to have assymetric distances but are unrelated. Interesting 'is-part-of' relationships like cat,animal will be both highly assymetric and closely related. We therefore choose the edge weight :\n",
    "\n",
    "weight_edge_a_to_b = (d(a,b) - d(b,a))/(1 + d(a,b))\n",
    "\n",
    "From this, we will obtain a directed graph. \n",
    "To convert this graph into a tree, we need to remove a certain number of edges. For each edge we remove, we need to pay the cost of the edge's weight, but we break some cycles. The problem consists in breaking all cycles at the minimal cost. This is exctly the problem of minimum spanning tree, that can be solved with Edmonds' algorithm for minimum spanning arborescence."
   ]
  },
  {
   "cell_type": "code",
   "execution_count": 13,
   "metadata": {},
   "outputs": [],
   "source": [
    "import math\n",
    "import networkx as nx\n",
    "\n",
    "def create_initial_graph(d):\n",
    "    G = nx.DiGraph()\n",
    "    for (a, b), dist_ab in d.items():\n",
    "        if (b, a) in d:\n",
    "            dist_ba = d[(b, a)]\n",
    "            weight = (dist_ab - dist_ba) / (1 + dist_ab)\n",
    "            if dist_ab > dist_ba:\n",
    "                G.add_edge(a, b, weight=weight)\n",
    "            else:\n",
    "                G.add_edge(b, a, weight=-weight)\n",
    "    return G\n"
   ]
  },
  {
   "cell_type": "markdown",
   "metadata": {},
   "source": [
    "Never mind this is garbage, ask Nas for beautiful stuff if you are not convinced.\n",
    "\n",
    "Let's plot the emotional jumps."
   ]
  },
  {
   "cell_type": "code",
   "execution_count": 14,
   "metadata": {},
   "outputs": [
    {
     "data": {
      "image/png": "[encoded data removed]",
      "text/plain": [
       "<Figure size 640x480 with 1 Axes>"
      ]
     },
     "metadata": {},
     "output_type": "display_data"
    }
   ],
   "source": [
    "import matplotlib.pyplot as plt\n",
    "\n",
    "#plt.figure(figsize=(10, 6))  # Set the figure size\n",
    "\n",
    "for path in processed_paths:\n",
    "    distances = [d.get((path[i-1], path[i]), 0) for i in range(1, len(path))]\n",
    "    distances = distances[:10]\n",
    "    \n",
    "    # Create x-axis values (step numbers)\n",
    "    steps = range(1, len(distances) + 1)\n",
    "    \n",
    "    # Plot the line\n",
    "    plt.plot(steps, distances, marker='o', linestyle='-', markersize=4)\n",
    "\n",
    "# Customize the plot\n",
    "plt.title('Distances Along Paths')\n",
    "plt.xlabel('Step Number')\n",
    "plt.ylabel('Distance')\n",
    "plt.grid(True)\n",
    "\n",
    "# Show the plot\n",
    "plt.tight_layout()\n",
    "plt.show()"
   ]
  }
 ],
 "metadata": {
  "kernelspec": {
   "display_name": ".venv",
   "language": "python",
   "name": "python3"
  },
  "language_info": {
   "codemirror_mode": {
    "name": "ipython",
    "version": 3
   },
   "file_extension": ".py",
   "mimetype": "text/x-python",
   "name": "python",
   "nbconvert_exporter": "python",
   "pygments_lexer": "ipython3",
   "version": "3.10.12"
  }
 },
 "nbformat": 4,
 "nbformat_minor": 2
}
