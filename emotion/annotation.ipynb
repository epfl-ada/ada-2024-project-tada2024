{
 "cells": [
  {
   "cell_type": "code",
   "execution_count": 2,
   "id": "aa4c84c7-9082-4bdd-b7a1-b120074ca189",
   "metadata": {},
   "outputs": [
    {
     "name": "stdout",
     "output_type": "stream",
     "text": [
      "                             file_name  \\\n",
      "0                   Second_Crusade.txt   \n",
      "1                   Navassa_Island.txt   \n",
      "2                 Evan_Rachel_Wood.txt   \n",
      "3  Tropical_Storm_Henri_%282003%29.txt   \n",
      "4          Final_Fantasy_Adventure.txt   \n",
      "\n",
      "                                             content  \n",
      "0     #copyright\\n\\nSecond Crusade\\n\\n2007 School...  \n",
      "1     #copyright\\n\\nNavassa Island\\n\\n2007 School...  \n",
      "2     #copyright\\n\\nEvan Rachel Wood\\n\\n2007 Scho...  \n",
      "3     #copyright\\n\\nTropical Storm Henri (2003)\\n...  \n",
      "4     #copyright\\n\\nFinal Fantasy Adventure\\n\\n20...  \n"
     ]
    }
   ],
   "source": [
    "import os\n",
    "import pandas as pd\n",
    "\n",
    "#Load the data\n",
    "data_dir = 'dataset/plaintext_articles'\n",
    "articles = []\n",
    "for file_name in os.listdir(data_dir):\n",
    "    if file_name.endswith('.txt'):  \n",
    "        with open(os.path.join(data_dir, file_name), 'r', encoding='utf-8') as file:\n",
    "            content = file.read()\n",
    "            articles.append({'file_name': file_name, 'content': content})\n",
    "\n",
    "df = pd.DataFrame(articles)\n",
    "print(df.head())"
   ]
  },
  {
   "cell_type": "code",
   "execution_count": 3,
   "id": "e5ef02d9-e857-43c3-ac4b-a2a306ac17bd",
   "metadata": {},
   "outputs": [
    {
     "name": "stdout",
     "output_type": "stream",
     "text": [
      "GPU not available, using CPU...\n"
     ]
    }
   ],
   "source": [
    "import torch\n",
    "\n",
    "if torch.cuda.is_available():\n",
    "    print(\"GPU is available, using CUDA...\")\n",
    "    device = 0\n",
    "else:\n",
    "    print(\"GPU not available, using CPU...\")\n",
    "    device = -1  # CPU"
   ]
  },
  {
   "cell_type": "code",
   "execution_count": 6,
   "id": "595509f6-072c-4cf2-b649-0f7e9a9c5b03",
   "metadata": {},
   "outputs": [],
   "source": [
    "from transformers import AutoTokenizer, pipeline\n",
    "# Function to truncate text to 512 tokens using the tokenizer\n",
    "def truncate_text_with_tokenizer(text, tokenizer, max_length=512):\n",
    "    encoded = tokenizer.encode(text, truncation=True, max_length=max_length)\n",
    "    truncated_text = tokenizer.decode(encoded, skip_special_tokens=True)\n",
    "    return truncated_text"
   ]
  },
  {
   "cell_type": "code",
   "execution_count": 7,
   "id": "952fae1d-cd18-40e2-880d-adc5a9a4f71b",
   "metadata": {},
   "outputs": [
    {
     "data": {
      "application/vnd.jupyter.widget-view+json": {
       "model_id": "d6e34c043a2845d2925d45805baf11b2",
       "version_major": 2,
       "version_minor": 0
      },
      "text/plain": [
       "tokenizer_config.json:   0%|          | 0.00/380 [00:00<?, ?B/s]"
      ]
     },
     "metadata": {},
     "output_type": "display_data"
    },
    {
     "data": {
      "application/vnd.jupyter.widget-view+json": {
       "model_id": "9cfcee305a2a45c99f1674e388e9b3cc",
       "version_major": 2,
       "version_minor": 0
      },
      "text/plain": [
       "vocab.json:   0%|          | 0.00/798k [00:00<?, ?B/s]"
      ]
     },
     "metadata": {},
     "output_type": "display_data"
    },
    {
     "data": {
      "application/vnd.jupyter.widget-view+json": {
       "model_id": "ee6c2cbb80254bfbac66175fee89b1a6",
       "version_major": 2,
       "version_minor": 0
      },
      "text/plain": [
       "merges.txt:   0%|          | 0.00/456k [00:00<?, ?B/s]"
      ]
     },
     "metadata": {},
     "output_type": "display_data"
    },
    {
     "data": {
      "application/vnd.jupyter.widget-view+json": {
       "model_id": "54ead67cd82f44abb67c684d94d9e35d",
       "version_major": 2,
       "version_minor": 0
      },
      "text/plain": [
       "tokenizer.json:   0%|          | 0.00/2.11M [00:00<?, ?B/s]"
      ]
     },
     "metadata": {},
     "output_type": "display_data"
    },
    {
     "data": {
      "application/vnd.jupyter.widget-view+json": {
       "model_id": "12990b389fcb4d37895cecc169063c89",
       "version_major": 2,
       "version_minor": 0
      },
      "text/plain": [
       "special_tokens_map.json:   0%|          | 0.00/280 [00:00<?, ?B/s]"
      ]
     },
     "metadata": {},
     "output_type": "display_data"
    },
    {
     "data": {
      "text/html": [
       "<div>\n",
       "<style scoped>\n",
       "    .dataframe tbody tr th:only-of-type {\n",
       "        vertical-align: middle;\n",
       "    }\n",
       "\n",
       "    .dataframe tbody tr th {\n",
       "        vertical-align: top;\n",
       "    }\n",
       "\n",
       "    .dataframe thead th {\n",
       "        text-align: right;\n",
       "    }\n",
       "</style>\n",
       "<table border=\"1\" class=\"dataframe\">\n",
       "  <thead>\n",
       "    <tr style=\"text-align: right;\">\n",
       "      <th></th>\n",
       "      <th>file_name</th>\n",
       "      <th>content</th>\n",
       "      <th>truncated_content</th>\n",
       "    </tr>\n",
       "  </thead>\n",
       "  <tbody>\n",
       "    <tr>\n",
       "      <th>0</th>\n",
       "      <td>Second_Crusade.txt</td>\n",
       "      <td>#copyright\\n\\nSecond Crusade\\n\\n2007 School...</td>\n",
       "      <td>#copyright\\n\\nSecond Crusade\\n\\n2007 School...</td>\n",
       "    </tr>\n",
       "    <tr>\n",
       "      <th>1</th>\n",
       "      <td>Navassa_Island.txt</td>\n",
       "      <td>#copyright\\n\\nNavassa Island\\n\\n2007 School...</td>\n",
       "      <td>#copyright\\n\\nNavassa Island\\n\\n2007 School...</td>\n",
       "    </tr>\n",
       "    <tr>\n",
       "      <th>2</th>\n",
       "      <td>Evan_Rachel_Wood.txt</td>\n",
       "      <td>#copyright\\n\\nEvan Rachel Wood\\n\\n2007 Scho...</td>\n",
       "      <td>#copyright\\n\\nEvan Rachel Wood\\n\\n2007 Scho...</td>\n",
       "    </tr>\n",
       "    <tr>\n",
       "      <th>3</th>\n",
       "      <td>Tropical_Storm_Henri_%282003%29.txt</td>\n",
       "      <td>#copyright\\n\\nTropical Storm Henri (2003)\\n...</td>\n",
       "      <td>#copyright\\n\\nTropical Storm Henri (2003)\\n...</td>\n",
       "    </tr>\n",
       "    <tr>\n",
       "      <th>4</th>\n",
       "      <td>Final_Fantasy_Adventure.txt</td>\n",
       "      <td>#copyright\\n\\nFinal Fantasy Adventure\\n\\n20...</td>\n",
       "      <td>#copyright\\n\\nFinal Fantasy Adventure\\n\\n20...</td>\n",
       "    </tr>\n",
       "    <tr>\n",
       "      <th>...</th>\n",
       "      <td>...</td>\n",
       "      <td>...</td>\n",
       "      <td>...</td>\n",
       "    </tr>\n",
       "    <tr>\n",
       "      <th>4599</th>\n",
       "      <td>R%C3%A9union.txt</td>\n",
       "      <td>#copyright\\n\\nRéunion\\n\\n2007 Schools Wikip...</td>\n",
       "      <td>#copyright\\n\\nRéunion\\n\\n2007 Schools Wikip...</td>\n",
       "    </tr>\n",
       "    <tr>\n",
       "      <th>4600</th>\n",
       "      <td>Flower.txt</td>\n",
       "      <td>#copyright\\n\\nFlower\\n\\n2007 Schools Wikipe...</td>\n",
       "      <td>#copyright\\n\\nFlower\\n\\n2007 Schools Wikipe...</td>\n",
       "    </tr>\n",
       "    <tr>\n",
       "      <th>4601</th>\n",
       "      <td>Banknote.txt</td>\n",
       "      <td>#copyright\\n\\nBanknote\\n\\n2007 Schools Wiki...</td>\n",
       "      <td>#copyright\\n\\nBanknote\\n\\n2007 Schools Wiki...</td>\n",
       "    </tr>\n",
       "    <tr>\n",
       "      <th>4602</th>\n",
       "      <td>Weyto_language.txt</td>\n",
       "      <td>#copyright\\n\\nWeyto language\\n\\n2007 School...</td>\n",
       "      <td>#copyright\\n\\nWeyto language\\n\\n2007 School...</td>\n",
       "    </tr>\n",
       "    <tr>\n",
       "      <th>4603</th>\n",
       "      <td>Marseille.txt</td>\n",
       "      <td>#copyright\\n\\nMarseille\\n\\n2007 Schools Wik...</td>\n",
       "      <td>#copyright\\n\\nMarseille\\n\\n2007 Schools Wik...</td>\n",
       "    </tr>\n",
       "  </tbody>\n",
       "</table>\n",
       "<p>4604 rows × 3 columns</p>\n",
       "</div>"
      ],
      "text/plain": [
       "                                file_name  \\\n",
       "0                      Second_Crusade.txt   \n",
       "1                      Navassa_Island.txt   \n",
       "2                    Evan_Rachel_Wood.txt   \n",
       "3     Tropical_Storm_Henri_%282003%29.txt   \n",
       "4             Final_Fantasy_Adventure.txt   \n",
       "...                                   ...   \n",
       "4599                     R%C3%A9union.txt   \n",
       "4600                           Flower.txt   \n",
       "4601                         Banknote.txt   \n",
       "4602                   Weyto_language.txt   \n",
       "4603                        Marseille.txt   \n",
       "\n",
       "                                                content  \\\n",
       "0        #copyright\\n\\nSecond Crusade\\n\\n2007 School...   \n",
       "1        #copyright\\n\\nNavassa Island\\n\\n2007 School...   \n",
       "2        #copyright\\n\\nEvan Rachel Wood\\n\\n2007 Scho...   \n",
       "3        #copyright\\n\\nTropical Storm Henri (2003)\\n...   \n",
       "4        #copyright\\n\\nFinal Fantasy Adventure\\n\\n20...   \n",
       "...                                                 ...   \n",
       "4599     #copyright\\n\\nRéunion\\n\\n2007 Schools Wikip...   \n",
       "4600     #copyright\\n\\nFlower\\n\\n2007 Schools Wikipe...   \n",
       "4601     #copyright\\n\\nBanknote\\n\\n2007 Schools Wiki...   \n",
       "4602     #copyright\\n\\nWeyto language\\n\\n2007 School...   \n",
       "4603     #copyright\\n\\nMarseille\\n\\n2007 Schools Wik...   \n",
       "\n",
       "                                      truncated_content  \n",
       "0        #copyright\\n\\nSecond Crusade\\n\\n2007 School...  \n",
       "1        #copyright\\n\\nNavassa Island\\n\\n2007 School...  \n",
       "2        #copyright\\n\\nEvan Rachel Wood\\n\\n2007 Scho...  \n",
       "3        #copyright\\n\\nTropical Storm Henri (2003)\\n...  \n",
       "4        #copyright\\n\\nFinal Fantasy Adventure\\n\\n20...  \n",
       "...                                                 ...  \n",
       "4599     #copyright\\n\\nRéunion\\n\\n2007 Schools Wikip...  \n",
       "4600     #copyright\\n\\nFlower\\n\\n2007 Schools Wikipe...  \n",
       "4601     #copyright\\n\\nBanknote\\n\\n2007 Schools Wiki...  \n",
       "4602     #copyright\\n\\nWeyto language\\n\\n2007 School...  \n",
       "4603     #copyright\\n\\nMarseille\\n\\n2007 Schools Wik...  \n",
       "\n",
       "[4604 rows x 3 columns]"
      ]
     },
     "execution_count": 7,
     "metadata": {},
     "output_type": "execute_result"
    }
   ],
   "source": [
    "# Load the tokenizer for the model\n",
    "tokenizer = AutoTokenizer.from_pretrained(\"SamLowe/roberta-base-go_emotions\")\n",
    "\n",
    "# Apply truncation with the tokenizer to ensure the tokens of content is lower than the maximum\n",
    "df['truncated_content'] = df['content'].apply(lambda x: truncate_text_with_tokenizer(x, tokenizer, max_length=512))\n",
    "\n",
    "df"
   ]
  },
  {
   "cell_type": "code",
   "execution_count": null,
   "id": "2df78dd4-2b7e-4749-ae58-ab84f0fb17b8",
   "metadata": {},
   "outputs": [],
   "source": [
    "# Load model\n",
    "emotion_analyzer = pipeline(\"text-classification\", model=\"SamLowe/roberta-base-go_emotions\", top_k=None, device=device)\n",
    "\n",
    "# Apply the model to a sample of articles\n",
    "sample_texts = df['truncated_content'].tolist()  # Taking first 5 articles as sample\n",
    "goemotions_results = [emotion_analyzer(text) for text in sample_texts]\n",
    "\n",
    "# Print sample results\n",
    "for idx, result in enumerate(goemotions_results):\n",
    "    print(f\"Article {idx+1}: {result}\")"
   ]
  },
  {
   "cell_type": "code",
   "execution_count": null,
   "id": "6ee5469a-bfb8-4a87-9c14-e6c6224d28da",
   "metadata": {},
   "outputs": [],
   "source": [
    "index.split('.')[0]"
   ]
  }
 ],
 "metadata": {
  "kernelspec": {
   "display_name": "Python 3 (ipykernel)",
   "language": "python",
   "name": "python3"
  },
  "language_info": {
   "codemirror_mode": {
    "name": "ipython",
    "version": 3
   },
   "file_extension": ".py",
   "mimetype": "text/x-python",
   "name": "python",
   "nbconvert_exporter": "python",
   "pygments_lexer": "ipython3",
   "version": "3.12.2"
  }
 },
 "nbformat": 4,
 "nbformat_minor": 5
}
