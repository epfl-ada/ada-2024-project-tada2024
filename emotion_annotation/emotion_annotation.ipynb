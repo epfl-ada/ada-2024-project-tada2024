{
 "cells": [
  {
   "cell_type": "code",
   "execution_count": 36,
   "id": "aa4c84c7-9082-4bdd-b7a1-b120074ca189",
   "metadata": {},
   "outputs": [
    {
     "name": "stdout",
     "output_type": "stream",
     "text": [
      "                              file_name  \\\n",
      "0  %C3%81ed%C3%A1n_mac_Gabr%C3%A1in.txt   \n",
      "1                        %C3%85land.txt   \n",
      "2                %C3%89douard_Manet.txt   \n",
      "3                         %C3%89ire.txt   \n",
      "4        %C3%93engus_I_of_the_Picts.txt   \n",
      "\n",
      "                                             content  \n",
      "0     #copyright\\n\\nÁedán mac Gabráin\\n\\n2007 Sch...  \n",
      "1     #copyright\\n\\nÅland\\n\\n2007 Schools Wikiped...  \n",
      "2     #copyright\\n\\nÉdouard Manet\\n\\n2007 Schools...  \n",
      "3     #copyright\\n\\nÉire\\n\\n2007 Schools Wikipedi...  \n",
      "4     #copyright\\n\\nÓengus I of the Picts\\n\\n2007...  \n"
     ]
    }
   ],
   "source": [
    "import os\n",
    "import pandas as pd\n",
    "\n",
    "#Load the data\n",
    "data_dir = 'ada/dataset'\n",
    "articles = []\n",
    "for file_name in os.listdir(data_dir):\n",
    "    if file_name.endswith('.txt'):  \n",
    "        with open(os.path.join(data_dir, file_name), 'r', encoding='utf-8') as file:\n",
    "            content = file.read()\n",
    "            articles.append({'file_name': file_name, 'content': content})\n",
    "\n",
    "df = pd.DataFrame(articles)\n",
    "print(df.head())"
   ]
  },
  {
   "cell_type": "code",
   "execution_count": 46,
   "id": "e5ef02d9-e857-43c3-ac4b-a2a306ac17bd",
   "metadata": {},
   "outputs": [
    {
     "name": "stdout",
     "output_type": "stream",
     "text": [
      "GPU is available, using CUDA...\n"
     ]
    }
   ],
   "source": [
    "import torch\n",
    "\n",
    "if torch.cuda.is_available():\n",
    "    print(\"GPU is available, using CUDA...\")\n",
    "    device = 0\n",
    "else:\n",
    "    print(\"GPU not available, using CPU...\")\n",
    "    device = -1  # CPU"
   ]
  },
  {
   "cell_type": "code",
   "execution_count": 60,
   "id": "595509f6-072c-4cf2-b649-0f7e9a9c5b03",
   "metadata": {},
   "outputs": [],
   "source": [
    "from transformers import AutoTokenizer, pipeline\n",
    "# Function to truncate text to 512 tokens using the tokenizer\n",
    "def truncate_text_with_tokenizer(text, tokenizer, max_length=512):\n",
    "    encoded = tokenizer.encode(text, truncation=True, max_length=max_length)\n",
    "    truncated_text = tokenizer.decode(encoded, skip_special_tokens=True)\n",
    "    return truncated_text"
   ]
  },
  {
   "cell_type": "code",
   "execution_count": 62,
   "id": "952fae1d-cd18-40e2-880d-adc5a9a4f71b",
   "metadata": {},
   "outputs": [
    {
     "data": {
      "text/html": [
       "<div>\n",
       "<style scoped>\n",
       "    .dataframe tbody tr th:only-of-type {\n",
       "        vertical-align: middle;\n",
       "    }\n",
       "\n",
       "    .dataframe tbody tr th {\n",
       "        vertical-align: top;\n",
       "    }\n",
       "\n",
       "    .dataframe thead th {\n",
       "        text-align: right;\n",
       "    }\n",
       "</style>\n",
       "<table border=\"1\" class=\"dataframe\">\n",
       "  <thead>\n",
       "    <tr style=\"text-align: right;\">\n",
       "      <th></th>\n",
       "      <th>file_name</th>\n",
       "      <th>content</th>\n",
       "      <th>truncated_content</th>\n",
       "    </tr>\n",
       "  </thead>\n",
       "  <tbody>\n",
       "    <tr>\n",
       "      <th>0</th>\n",
       "      <td>%C3%81ed%C3%A1n_mac_Gabr%C3%A1in.txt</td>\n",
       "      <td>#copyright\\n\\nÁedán mac Gabráin\\n\\n2007 Sch...</td>\n",
       "      <td>#copyright\\n\\nÁedán mac Gabráin\\n\\n2007 Sch...</td>\n",
       "    </tr>\n",
       "    <tr>\n",
       "      <th>1</th>\n",
       "      <td>%C3%85land.txt</td>\n",
       "      <td>#copyright\\n\\nÅland\\n\\n2007 Schools Wikiped...</td>\n",
       "      <td>#copyright\\n\\nÅland\\n\\n2007 Schools Wikiped...</td>\n",
       "    </tr>\n",
       "    <tr>\n",
       "      <th>2</th>\n",
       "      <td>%C3%89douard_Manet.txt</td>\n",
       "      <td>#copyright\\n\\nÉdouard Manet\\n\\n2007 Schools...</td>\n",
       "      <td>#copyright\\n\\nÉdouard Manet\\n\\n2007 Schools...</td>\n",
       "    </tr>\n",
       "    <tr>\n",
       "      <th>3</th>\n",
       "      <td>%C3%89ire.txt</td>\n",
       "      <td>#copyright\\n\\nÉire\\n\\n2007 Schools Wikipedi...</td>\n",
       "      <td>#copyright\\n\\nÉire\\n\\n2007 Schools Wikipedi...</td>\n",
       "    </tr>\n",
       "    <tr>\n",
       "      <th>4</th>\n",
       "      <td>%C3%93engus_I_of_the_Picts.txt</td>\n",
       "      <td>#copyright\\n\\nÓengus I of the Picts\\n\\n2007...</td>\n",
       "      <td>#copyright\\n\\nÓengus I of the Picts\\n\\n2007...</td>\n",
       "    </tr>\n",
       "    <tr>\n",
       "      <th>...</th>\n",
       "      <td>...</td>\n",
       "      <td>...</td>\n",
       "      <td>...</td>\n",
       "    </tr>\n",
       "    <tr>\n",
       "      <th>4599</th>\n",
       "      <td>Zirconium.txt</td>\n",
       "      <td>#copyright\\n\\nZirconium\\n\\n2007 Schools Wik...</td>\n",
       "      <td>#copyright\\n\\nZirconium\\n\\n2007 Schools Wik...</td>\n",
       "    </tr>\n",
       "    <tr>\n",
       "      <th>4600</th>\n",
       "      <td>Zoroaster.txt</td>\n",
       "      <td>#copyright\\n\\nZoroaster\\n\\n2007 Schools Wik...</td>\n",
       "      <td>#copyright\\n\\nZoroaster\\n\\n2007 Schools Wik...</td>\n",
       "    </tr>\n",
       "    <tr>\n",
       "      <th>4601</th>\n",
       "      <td>Zuid-Gelders.txt</td>\n",
       "      <td>#copyright\\n\\nZuid-Gelders\\n\\n2007 Schools ...</td>\n",
       "      <td>#copyright\\n\\nZuid-Gelders\\n\\n2007 Schools ...</td>\n",
       "    </tr>\n",
       "    <tr>\n",
       "      <th>4602</th>\n",
       "      <td>Zulu.txt</td>\n",
       "      <td>#copyright\\n\\nZulu\\n\\n2007 Schools Wikipedi...</td>\n",
       "      <td>#copyright\\n\\nZulu\\n\\n2007 Schools Wikipedi...</td>\n",
       "    </tr>\n",
       "    <tr>\n",
       "      <th>4603</th>\n",
       "      <td>ZX_Spectrum.txt</td>\n",
       "      <td>#copyright\\n\\nZX Spectrum\\n\\n2007 Schools W...</td>\n",
       "      <td>#copyright\\n\\nZX Spectrum\\n\\n2007 Schools W...</td>\n",
       "    </tr>\n",
       "  </tbody>\n",
       "</table>\n",
       "<p>4604 rows × 3 columns</p>\n",
       "</div>"
      ],
      "text/plain": [
       "                                 file_name  \\\n",
       "0     %C3%81ed%C3%A1n_mac_Gabr%C3%A1in.txt   \n",
       "1                           %C3%85land.txt   \n",
       "2                   %C3%89douard_Manet.txt   \n",
       "3                            %C3%89ire.txt   \n",
       "4           %C3%93engus_I_of_the_Picts.txt   \n",
       "...                                    ...   \n",
       "4599                         Zirconium.txt   \n",
       "4600                         Zoroaster.txt   \n",
       "4601                      Zuid-Gelders.txt   \n",
       "4602                              Zulu.txt   \n",
       "4603                       ZX_Spectrum.txt   \n",
       "\n",
       "                                                content  \\\n",
       "0        #copyright\\n\\nÁedán mac Gabráin\\n\\n2007 Sch...   \n",
       "1        #copyright\\n\\nÅland\\n\\n2007 Schools Wikiped...   \n",
       "2        #copyright\\n\\nÉdouard Manet\\n\\n2007 Schools...   \n",
       "3        #copyright\\n\\nÉire\\n\\n2007 Schools Wikipedi...   \n",
       "4        #copyright\\n\\nÓengus I of the Picts\\n\\n2007...   \n",
       "...                                                 ...   \n",
       "4599     #copyright\\n\\nZirconium\\n\\n2007 Schools Wik...   \n",
       "4600     #copyright\\n\\nZoroaster\\n\\n2007 Schools Wik...   \n",
       "4601     #copyright\\n\\nZuid-Gelders\\n\\n2007 Schools ...   \n",
       "4602     #copyright\\n\\nZulu\\n\\n2007 Schools Wikipedi...   \n",
       "4603     #copyright\\n\\nZX Spectrum\\n\\n2007 Schools W...   \n",
       "\n",
       "                                      truncated_content  \n",
       "0        #copyright\\n\\nÁedán mac Gabráin\\n\\n2007 Sch...  \n",
       "1        #copyright\\n\\nÅland\\n\\n2007 Schools Wikiped...  \n",
       "2        #copyright\\n\\nÉdouard Manet\\n\\n2007 Schools...  \n",
       "3        #copyright\\n\\nÉire\\n\\n2007 Schools Wikipedi...  \n",
       "4        #copyright\\n\\nÓengus I of the Picts\\n\\n2007...  \n",
       "...                                                 ...  \n",
       "4599     #copyright\\n\\nZirconium\\n\\n2007 Schools Wik...  \n",
       "4600     #copyright\\n\\nZoroaster\\n\\n2007 Schools Wik...  \n",
       "4601     #copyright\\n\\nZuid-Gelders\\n\\n2007 Schools ...  \n",
       "4602     #copyright\\n\\nZulu\\n\\n2007 Schools Wikipedi...  \n",
       "4603     #copyright\\n\\nZX Spectrum\\n\\n2007 Schools W...  \n",
       "\n",
       "[4604 rows x 3 columns]"
      ]
     },
     "execution_count": 62,
     "metadata": {},
     "output_type": "execute_result"
    }
   ],
   "source": [
    "# Load the tokenizer for the model\n",
    "tokenizer = AutoTokenizer.from_pretrained(\"SamLowe/roberta-base-go_emotions\")\n",
    "\n",
    "# Apply truncation with the tokenizer to ensure the tokens of content is lower than the maximum\n",
    "df['truncated_content'] = df['content'].apply(lambda x: truncate_text_with_tokenizer(x, tokenizer, max_length=512))\n",
    "\n",
    "df"
   ]
  },
  {
   "cell_type": "code",
   "execution_count": 64,
   "id": "2df78dd4-2b7e-4749-ae58-ab84f0fb17b8",
   "metadata": {},
   "outputs": [
    {
     "name": "stdout",
     "output_type": "stream",
     "text": [
      "Article 1: [[{'label': 'neutral', 'score': 0.9329707622528076}, {'label': 'approval', 'score': 0.039439521729946136}, {'label': 'realization', 'score': 0.02662878856062889}, {'label': 'disappointment', 'score': 0.005620713345706463}, {'label': 'annoyance', 'score': 0.00509575754404068}, {'label': 'disapproval', 'score': 0.0043046437203884125}, {'label': 'confusion', 'score': 0.004264521412551403}, {'label': 'admiration', 'score': 0.004086356144398451}, {'label': 'sadness', 'score': 0.0038565266877412796}, {'label': 'optimism', 'score': 0.0033053208608180285}, {'label': 'disgust', 'score': 0.0016887536039575934}, {'label': 'amusement', 'score': 0.0014552776701748371}, {'label': 'fear', 'score': 0.0012672347947955132}, {'label': 'joy', 'score': 0.0011649888474494219}, {'label': 'curiosity', 'score': 0.0011400567600503564}, {'label': 'desire', 'score': 0.000999607378616929}, {'label': 'love', 'score': 0.0009969371603801847}, {'label': 'gratitude', 'score': 0.0009945124620571733}, {'label': 'caring', 'score': 0.0009191292920149863}, {'label': 'anger', 'score': 0.0009155636071227491}, {'label': 'excitement', 'score': 0.0006974120042286813}, {'label': 'embarrassment', 'score': 0.0006192292785272002}, {'label': 'relief', 'score': 0.0006148834945634007}, {'label': 'surprise', 'score': 0.0006080014863982797}, {'label': 'remorse', 'score': 0.0005226535722613335}, {'label': 'grief', 'score': 0.000482344621559605}, {'label': 'nervousness', 'score': 0.00039924372686073184}, {'label': 'pride', 'score': 0.0003945964854210615}]]\n",
      "Article 2: [[{'label': 'neutral', 'score': 0.8982173204421997}, {'label': 'confusion', 'score': 0.02910318598151207}, {'label': 'approval', 'score': 0.028611471876502037}, {'label': 'curiosity', 'score': 0.0135420560836792}, {'label': 'realization', 'score': 0.0122167207300663}, {'label': 'annoyance', 'score': 0.009781736880540848}, {'label': 'disapproval', 'score': 0.005215431097894907}, {'label': 'amusement', 'score': 0.0030260966159403324}, {'label': 'anger', 'score': 0.003015699330717325}, {'label': 'disappointment', 'score': 0.002221104223281145}, {'label': 'optimism', 'score': 0.0020404397509992123}, {'label': 'surprise', 'score': 0.0018979946617037058}, {'label': 'disgust', 'score': 0.0018949132645502687}, {'label': 'admiration', 'score': 0.0017455725464969873}, {'label': 'excitement', 'score': 0.0015995001886039972}, {'label': 'fear', 'score': 0.0015919995494186878}, {'label': 'sadness', 'score': 0.0012839895207434893}, {'label': 'joy', 'score': 0.0010330879595130682}, {'label': 'embarrassment', 'score': 0.0007515258039347827}, {'label': 'love', 'score': 0.000721606076695025}, {'label': 'caring', 'score': 0.0006909575313329697}, {'label': 'desire', 'score': 0.0005227856454439461}, {'label': 'nervousness', 'score': 0.000410721666412428}, {'label': 'grief', 'score': 0.0002765035314951092}, {'label': 'relief', 'score': 0.0002457710215821862}, {'label': 'gratitude', 'score': 0.00024144472263287753}, {'label': 'remorse', 'score': 0.00018436780374031514}, {'label': 'pride', 'score': 0.00016464827058371156}]]\n",
      "Article 3: [[{'label': 'neutral', 'score': 0.9095081090927124}, {'label': 'approval', 'score': 0.0797935500741005}, {'label': 'realization', 'score': 0.029609810560941696}, {'label': 'admiration', 'score': 0.00720510259270668}, {'label': 'annoyance', 'score': 0.007031084503978491}, {'label': 'disapproval', 'score': 0.0042288219556212425}, {'label': 'disappointment', 'score': 0.0041320351883769035}, {'label': 'confusion', 'score': 0.0040214890614151955}, {'label': 'optimism', 'score': 0.002627713605761528}, {'label': 'sadness', 'score': 0.0022339182905852795}, {'label': 'curiosity', 'score': 0.002229786477982998}, {'label': 'amusement', 'score': 0.0017774911830201745}, {'label': 'joy', 'score': 0.0015921505400910974}, {'label': 'disgust', 'score': 0.001588681829161942}, {'label': 'anger', 'score': 0.0014063917333260179}, {'label': 'excitement', 'score': 0.0012712744064629078}, {'label': 'fear', 'score': 0.0011294058058410883}, {'label': 'love', 'score': 0.0010219583055004478}, {'label': 'surprise', 'score': 0.0010162314865738153}, {'label': 'caring', 'score': 0.0008410795708186924}, {'label': 'desire', 'score': 0.0006873217062093318}, {'label': 'embarrassment', 'score': 0.0006123430212028325}, {'label': 'relief', 'score': 0.000573576195165515}, {'label': 'pride', 'score': 0.0004730539512820542}, {'label': 'nervousness', 'score': 0.0003844395687337965}, {'label': 'grief', 'score': 0.00037897101719863713}, {'label': 'gratitude', 'score': 0.0003465111367404461}, {'label': 'remorse', 'score': 0.00025723688304424286}]]\n",
      "Article 4: [[{'label': 'neutral', 'score': 0.8900602459907532}, {'label': 'approval', 'score': 0.0881258174777031}, {'label': 'realization', 'score': 0.03816616162657738}, {'label': 'annoyance', 'score': 0.00906760897487402}, {'label': 'disapproval', 'score': 0.005321162287145853}, {'label': 'confusion', 'score': 0.003947726916521788}, {'label': 'disappointment', 'score': 0.0037564716767519712}, {'label': 'optimism', 'score': 0.0029358169995248318}, {'label': 'admiration', 'score': 0.0027008759789168835}, {'label': 'amusement', 'score': 0.0016141305677592754}, {'label': 'disgust', 'score': 0.0015824672300368547}, {'label': 'sadness', 'score': 0.0013927791733294725}, {'label': 'anger', 'score': 0.001166053581982851}, {'label': 'curiosity', 'score': 0.001165792578831315}, {'label': 'joy', 'score': 0.0009984219213947654}, {'label': 'love', 'score': 0.0008126767352223396}, {'label': 'caring', 'score': 0.0007899352931417525}, {'label': 'fear', 'score': 0.0007417038432322443}, {'label': 'excitement', 'score': 0.000687517924234271}, {'label': 'desire', 'score': 0.000676119583658874}, {'label': 'surprise', 'score': 0.0005142470472492278}, {'label': 'embarrassment', 'score': 0.00047301920130848885}, {'label': 'relief', 'score': 0.0004596637736540288}, {'label': 'gratitude', 'score': 0.000360770063707605}, {'label': 'nervousness', 'score': 0.0003051204839721322}, {'label': 'pride', 'score': 0.0003022005839738995}, {'label': 'remorse', 'score': 0.0002358185884077102}, {'label': 'grief', 'score': 0.0002269377582706511}]]\n",
      "Article 5: [[{'label': 'neutral', 'score': 0.9064224362373352}, {'label': 'approval', 'score': 0.04099671542644501}, {'label': 'realization', 'score': 0.03979750722646713}, {'label': 'disappointment', 'score': 0.015973446890711784}, {'label': 'sadness', 'score': 0.010679153725504875}, {'label': 'annoyance', 'score': 0.009159854613244534}, {'label': 'disapproval', 'score': 0.0064928727224469185}, {'label': 'admiration', 'score': 0.004208623897284269}, {'label': 'optimism', 'score': 0.0031475811265408993}, {'label': 'confusion', 'score': 0.0030670976266264915}, {'label': 'disgust', 'score': 0.0023899886291474104}, {'label': 'fear', 'score': 0.0020947125740349293}, {'label': 'anger', 'score': 0.0012766916770488024}, {'label': 'amusement', 'score': 0.0012240350479260087}, {'label': 'embarrassment', 'score': 0.0011820794316008687}, {'label': 'joy', 'score': 0.00115883385296911}, {'label': 'caring', 'score': 0.001056188135407865}, {'label': 'relief', 'score': 0.0009802809217944741}, {'label': 'desire', 'score': 0.0009694350883364677}, {'label': 'curiosity', 'score': 0.0009641424403525889}, {'label': 'grief', 'score': 0.0008707302622497082}, {'label': 'nervousness', 'score': 0.000821489084046334}, {'label': 'gratitude', 'score': 0.000757453846745193}, {'label': 'surprise', 'score': 0.0007086103432811797}, {'label': 'love', 'score': 0.0006866587791591883}, {'label': 'remorse', 'score': 0.000621144485194236}, {'label': 'excitement', 'score': 0.0005818845238536596}, {'label': 'pride', 'score': 0.0005460427491925657}]]\n"
     ]
    }
   ],
   "source": [
    "# Load model\n",
    "emotion_analyzer = pipeline(\"text-classification\", model=\"SamLowe/roberta-base-go_emotions\", top_k=None, device=device)\n",
    "\n",
    "# Apply the model to a sample of articles\n",
    "sample_texts = df['truncated_content'][:5].tolist()  # Taking first 5 articles as sample\n",
    "goemotions_results = [emotion_analyzer(text) for text in sample_texts]\n",
    "\n",
    "# Print sample results\n",
    "for idx, result in enumerate(goemotions_results):\n",
    "    print(f\"Article {idx+1}: {result}\")"
   ]
  },
  {
   "cell_type": "code",
   "execution_count": null,
   "id": "6ee5469a-bfb8-4a87-9c14-e6c6224d28da",
   "metadata": {},
   "outputs": [],
   "source": []
  }
 ],
 "metadata": {
  "kernelspec": {
   "display_name": "Python 3 (ipykernel)",
   "language": "python",
   "name": "python3"
  },
  "language_info": {
   "codemirror_mode": {
    "name": "ipython",
    "version": 3
   },
   "file_extension": ".py",
   "mimetype": "text/x-python",
   "name": "python",
   "nbconvert_exporter": "python",
   "pygments_lexer": "ipython3",
   "version": "3.12.4"
  }
 },
 "nbformat": 4,
 "nbformat_minor": 5
}
