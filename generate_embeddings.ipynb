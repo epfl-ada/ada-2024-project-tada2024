{
 "cells": [
  {
   "cell_type": "code",
   "execution_count": null,
   "metadata": {},
   "outputs": [],
   "source": [
    "import os\n",
    "import pickle\n",
    "from glob import glob\n",
    "from tqdm import tqdm\n",
    "from datetime import datetime\n",
    "from src.embedding_models.all_MiniLM_L6_v2 import All_MiniLM_L6_v2\n",
    "from src.embedding_models.all_mpnet_base_v2 import all_mpnet_base_v2\n",
    "from src.embedding_models.roberta import Roberta\n",
    "from src.downloader import download_dataset"
   ]
  },
  {
   "cell_type": "code",
   "execution_count": 9,
   "metadata": {},
   "outputs": [],
   "source": [
    "current_datetime = datetime.now().strftime(\"%Y%m%d_%H%M%S\")"
   ]
  },
  {
   "cell_type": "code",
   "execution_count": null,
   "metadata": {},
   "outputs": [],
   "source": [
    "download = False\n",
    "dataset_dir = \"./dataset\"\n",
    "articles_dir = \"./output/clean_plaintext_articles/\"\n",
    "embeddings_output_maindir = \"./output/embeddings/\"\n",
    "model_name = \"roberta\" # all_MiniLM_L6_v2 # all_mpnet_base_v2"
   ]
  },
  {
   "cell_type": "code",
   "execution_count": 11,
   "metadata": {},
   "outputs": [],
   "source": [
    "if download:\n",
    "    download_dataset(dataset_dir)"
   ]
  },
  {
   "cell_type": "code",
   "execution_count": null,
   "metadata": {},
   "outputs": [
    {
     "name": "stderr",
     "output_type": "stream",
     "text": [
      "c:\\Users\\a_has\\Desktop\\AdaM1\\venv\\Lib\\site-packages\\huggingface_hub\\file_download.py:139: UserWarning: `huggingface_hub` cache-system uses symlinks by default to efficiently store duplicated files but your machine does not support them in C:\\Users\\a_has\\.cache\\huggingface\\hub\\models--sentence-transformers--all-mpnet-base-v2. Caching files will still work but in a degraded version that might require more space on your disk. This warning can be disabled by setting the `HF_HUB_DISABLE_SYMLINKS_WARNING` environment variable. For more details, see https://huggingface.co/docs/huggingface_hub/how-to-cache#limitations.\n",
      "To support symlinks on Windows, you either need to activate Developer Mode or to run Python as an administrator. In order to activate developer mode, see this article: https://docs.microsoft.com/en-us/windows/apps/get-started/enable-your-device-for-development\n",
      "  warnings.warn(message)\n"
     ]
    }
   ],
   "source": [
    "model = None\n",
    "if model_name == \"all_MiniLM_L6_v2\":\n",
    "    model = All_MiniLM_L6_v2()\n",
    "elif model_name == \"all_mpnet_base_v2\":\n",
    "    model = all_mpnet_base_v2()\n",
    "elif model_name == \"roberta\"\n",
    "    model = Roberta()"
   ]
  },
  {
   "cell_type": "code",
   "execution_count": null,
   "metadata": {},
   "outputs": [
    {
     "name": "stderr",
     "output_type": "stream",
     "text": [
      "100%|██████████| 4604/4604 [1:37:34<00:00,  1.27s/it]  \n"
     ]
    }
   ],
   "source": [
    "article_embeddings = {}\n",
    "# Note from Nat : if this is too slow we can try to do batch processing\n",
    "for article_path in tqdm(glob(f'{articles_dir}/*.txt')):\n",
    "    article_name = os.path.splitext(os.path.basename(article_path))[0]\n",
    "    with open(article_path, 'r', encoding='utf-8', errors='ignore') as file:\n",
    "        text = file.read()\n",
    "        embedding = model.embed(text)\n",
    "        article_embeddings[article_name] = embedding"
   ]
  },
  {
   "cell_type": "code",
   "execution_count": 14,
   "metadata": {},
   "outputs": [],
   "source": [
    "# Create embedding output directory\n",
    "embeddings_output_dir = os.path.join(embeddings_output_maindir, model_name, current_datetime)\n",
    "if not os.path.exists(embeddings_output_dir):\n",
    "    os.makedirs(embeddings_output_dir)\n",
    "\n",
    "# Save pkl embeddings in output dir\n",
    "embeddings_output_path = os.path.join(embeddings_output_dir, \"embeddings.pkl\")\n",
    "with open(embeddings_output_path, 'wb') as file:\n",
    "    pickle.dump(article_embeddings, file)\n",
    "\n",
    "# Save pkl embeddings as the latest one\n",
    "latest_embedding_output_path = os.path.join(embeddings_output_maindir, \"latest_embeddings.pkl\")\n",
    "with open(latest_embedding_output_path, 'wb') as file:\n",
    "    pickle.dump(article_embeddings, file)"
   ]
  }
 ],
 "metadata": {
  "kernelspec": {
   "display_name": "venv",
   "language": "python",
   "name": "python3"
  },
  "language_info": {
   "codemirror_mode": {
    "name": "ipython",
    "version": 3
   },
   "file_extension": ".py",
   "mimetype": "text/x-python",
   "name": "python",
   "nbconvert_exporter": "python",
   "pygments_lexer": "ipython3",
   "version": "3.12.5"
  }
 },
 "nbformat": 4,
 "nbformat_minor": 2
}
