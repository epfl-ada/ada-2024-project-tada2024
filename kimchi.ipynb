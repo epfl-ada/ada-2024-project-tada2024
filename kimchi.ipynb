{
 "cells": [
  {
   "cell_type": "markdown",
   "metadata": {},
   "source": [
    "# 1. Import libraries"
   ]
  },
  {
   "cell_type": "code",
   "execution_count": 7,
   "metadata": {},
   "outputs": [],
   "source": [
    "import pandas as pd\n",
    "from src.semantic.perform_clustering import run_kimchi_cos"
   ]
  },
  {
   "cell_type": "markdown",
   "metadata": {},
   "source": [
    "# 2. Perform Clustering for kimchi cos"
   ]
  },
  {
   "cell_type": "code",
   "execution_count": 8,
   "metadata": {},
   "outputs": [
    {
     "name": "stdout",
     "output_type": "stream",
     "text": [
      "MiniLM_L6_v2\n",
      "                   center_name  cluster_size\n",
      "0               Elephant_shrew           531\n",
      "1                Protoceratops           142\n",
      "2                   Dimetrodon           159\n",
      "3                     Devonian           193\n",
      "4                    Stone_Age           227\n",
      "5                      Geology           422\n",
      "6                  Mesopotamia           256\n",
      "7                      Assyria           294\n",
      "8                      Biology           432\n",
      "9                        Earth           320\n",
      "10             Akkadian_Empire           376\n",
      "11  History_of_the_Netherlands           385\n",
      "12                 8th_century           304\n",
      "13                    Svalbard           439\n",
      "14                     Permian           124\n",
      "mpnet_base_v2\n",
      "                        center_name  cluster_size\n",
      "0                     Great_Britain           215\n",
      "1                           Geology           572\n",
      "2                      18th_century           282\n",
      "3                           Sparrow           566\n",
      "4                        Revolution           250\n",
      "5                   Prehistoric_man           212\n",
      "6                              Asia           215\n",
      "7                     North_America           187\n",
      "8                           History           379\n",
      "9                              Cuba           358\n",
      "10                            Flood           281\n",
      "11  British_Isles_%28terminology%29           306\n",
      "12                            Canal           341\n",
      "13                      Mesopotamia           270\n",
      "14                           Canada           170\n",
      "roberta\n",
      "               center_name  cluster_size\n",
      "0              Common_Tern           244\n",
      "1                  Pochard           273\n",
      "2          Dunstable_Downs           338\n",
      "3            Francis_Petre           566\n",
      "4              Monoclonius           426\n",
      "5             Robert_Boyle           303\n",
      "6                 Goldfish           209\n",
      "7            Louis_Pasteur           321\n",
      "8          Robinson_Crusoe           209\n",
      "9      Stratford-upon-Avon           319\n",
      "10  Richard_Francis_Burton           226\n",
      "11                Barnacle           247\n",
      "12              Archimedes           257\n",
      "13            Venn_diagram           422\n",
      "14                 Mallard           244\n"
     ]
    }
   ],
   "source": [
    "\n",
    "category_file = './/data//original_dataset//wikispeedia_paths-and-graph//categories.tsv'      \n",
    "\n",
    "models = ['MiniLM_L6_v2', 'mpnet_base_v2', 'roberta']\n",
    "\n",
    "model_clustering_dfs = []\n",
    "for model_name in models:\n",
    "    model_file = f'.//data//semantic//output//embeddings//{model_name}//embeddings.pkl'\n",
    "    model_cluster = run_kimchi_cos(model_file, category_file)\n",
    "    model_clustering_dfs.append(model_cluster)\n",
    "\n",
    "\n",
    "for i, clustering_df in enumerate(model_clustering_dfs): \n",
    "    print(models[i])\n",
    "    print(clustering_df[['center_name', 'cluster_size']])"
   ]
  },
  {
   "cell_type": "code",
   "execution_count": null,
   "metadata": {},
   "outputs": [],
   "source": []
  }
 ],
 "metadata": {
  "kernelspec": {
   "display_name": "Python 3 (ipykernel)",
   "language": "python",
   "name": "python3"
  },
  "language_info": {
   "codemirror_mode": {
    "name": "ipython",
    "version": 3
   },
   "file_extension": ".py",
   "mimetype": "text/x-python",
   "name": "python",
   "nbconvert_exporter": "python",
   "pygments_lexer": "ipython3",
   "version": "3.12.4"
  }
 },
 "nbformat": 4,
 "nbformat_minor": 4
}
