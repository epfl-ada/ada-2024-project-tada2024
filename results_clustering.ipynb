{
 "cells": [
  {
   "cell_type": "markdown",
   "metadata": {},
   "source": [
    "# 1. Import libraries"
   ]
  },
  {
   "cell_type": "code",
   "execution_count": null,
   "metadata": {},
   "outputs": [],
   "source": [
    "# our scripts\n",
    "import sys\n",
    "sys.path.append(\"./src/semantic\")\n",
    "\n",
    "from src.semantic.perform_clustering import run_all_clustering"
   ]
  },
  {
   "cell_type": "markdown",
   "metadata": {},
   "source": [
    "# 2. Perform Clustering for all article embeddings"
   ]
  },
  {
   "cell_type": "code",
   "execution_count": null,
   "metadata": {},
   "outputs": [],
   "source": [
    "## Define file paths \n",
    "# Path to the category data file\n",
    "category_file = './data/wikispeedia/wikispeedia_paths-and-graph/categories.tsv'      \n",
    "# All paths to the embedding data files\n",
    "MiniLM_L6_v2_file = './data/semantic/output/embeddings/all_MiniLM_L6_v2/embeddings.pkl' \n",
    "mpnet_base_v2_file = './data/semantic/output/embeddings/mpnet_base_v2/embeddings.pkl' \n",
    "roberta_file = './data/semantic/output/embeddings/roberta/embeddings.pkl' \n",
    "\n",
    "## Run clustering on all models and print the results\n",
    "# all_MiniLM_L6_v2\n",
    "print('clustering results for MiniLM_L6_v2 results:')\n",
    "MiniLM_L6_v2_clustering = run_all_clustering(MiniLM_L6_v2_file, category_file)\n",
    "for model_name, clusters in MiniLM_L6_v2_clustering.items():\n",
    "    print(f\"Model: {model_name}\")\n",
    "    print(len(clusters))\n",
    "\n",
    "# all_mpnet_base_v2\n",
    "print('clustering results for mpnet_base_v2 results:')\n",
    "mpnet_base_v2_clustering = run_all_clustering(mpnet_base_v2_file, category_file)\n",
    "for model_name, clusters in mpnet_base_v2_clustering.items():\n",
    "    print(f\"Model: {model_name}\")\n",
    "    print(len(clusters))\n",
    "\n",
    "# roberta\n",
    "print('clustering results for roberta results:')\n",
    "roberta_clustering = run_all_clustering(roberta_file, category_file)\n",
    "for model_name, clusters in roberta_clustering.items():\n",
    "    print(f\"Model: {model_name}\")\n",
    "    print(len(clusters))"
   ]
  }
 ],
 "metadata": {
  "kernelspec": {
   "display_name": "ada",
   "language": "python",
   "name": "python3"
  },
  "language_info": {
   "codemirror_mode": {
    "name": "ipython",
    "version": 3
   },
   "file_extension": ".py",
   "mimetype": "text/x-python",
   "name": "python",
   "nbconvert_exporter": "python",
   "pygments_lexer": "ipython3",
   "version": "3.10.15"
  }
 },
 "nbformat": 4,
 "nbformat_minor": 2
}
