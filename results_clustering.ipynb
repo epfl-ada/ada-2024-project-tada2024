{
 "cells": [
  {
   "cell_type": "markdown",
   "metadata": {},
   "source": [
    "# 1. Import libraries"
   ]
  },
  {
   "cell_type": "code",
   "execution_count": 1,
   "metadata": {},
   "outputs": [],
   "source": [
    "import pandas as pd\n",
    "import warnings\n",
    "warnings.filterwarnings('ignore')\n",
    "\n",
    "# our scripts\n",
    "from src.semantic.perform_clustering import run_all_clustering\n",
    "from src.semantic.evaluate_clustering import calculate_clustering_consistency, get_primary_category, map_clustering_category"
   ]
  },
  {
   "cell_type": "markdown",
   "metadata": {},
   "source": [
    "# 2. Calculate Semantic Distances for articles"
   ]
  },
  {
   "cell_type": "markdown",
   "metadata": {},
   "source": [
    "## 2.1 Define file paths "
   ]
  },
  {
   "cell_type": "code",
   "execution_count": 4,
   "metadata": {},
   "outputs": [],
   "source": [
    "# Path to the category data file\n",
    "category_file = './/data//original_dataset//wikispeedia_paths-and-graph//categories.tsv'\n",
    "\n",
    "# All paths to the embedding data files\n",
    "MiniLM_file = './/data//semantic//output//embeddings//MiniLM_L6_v2//embeddings.pkl' \n",
    "mpnet_file = './/data//semantic//output//embeddings//mpnet_base_v2//embeddings.pkl' \n",
    "roberta_file = './/data//semantic//output//embeddings//roberta//embeddings.pkl' "
   ]
  },
  {
   "cell_type": "markdown",
   "metadata": {},
   "source": [
    "## 2.2 Perform Clustering on embeddings"
   ]
  },
  {
   "cell_type": "code",
   "execution_count": null,
   "metadata": {},
   "outputs": [
    {
     "name": "stdout",
     "output_type": "stream",
     "text": [
      "Starting clustering for embeddings based on MiniLM_L6_v2...\n",
      "Perform ['K-Means', 'K-Medoids with Manhattan', 'K-Medoids with Cosine', 'Spectral Clustering with NN'] successfully!\n",
      "Starting clustering for embeddings based on mpnet_base_v2...\n",
      "Perform ['K-Means', 'K-Medoids with Manhattan', 'K-Medoids with Cosine', 'Spectral Clustering with NN'] successfully!\n",
      "Starting clustering for embeddings based on roberta...\n",
      "Perform ['K-Means', 'K-Medoids with Manhattan', 'K-Medoids with Cosine', 'Spectral Clustering with NN'] successfully!\n"
     ]
    }
   ],
   "source": [
    "# For embeddings generated from MiniLM\n",
    "print('------Starting clustering for embeddings based on MiniLM_L6_v2...')\n",
    "MiniLM_clustering = run_all_clustering(MiniLM_file, category_file)\n",
    "print(f\"Perform {list(MiniLM_clustering.keys())} successfully!\")\n",
    "\n",
    "# For embeddings generated from mpnet_base_v2\n",
    "print('------Starting clustering for embeddings based on mpnet_base_v2...')\n",
    "mpnet_clustering = run_all_clustering(mpnet_file, category_file)\n",
    "print(f\"Perform {list(mpnet_clustering.keys())} successfully!\")\n",
    "\n",
    "# Cluster embeddings generated from roberta\n",
    "print('------Starting clustering for embeddings based on roberta...')\n",
    "roberta_clustering = run_all_clustering(roberta_file, category_file)\n",
    "print(f\"Perform {list(roberta_clustering.keys())} successfully!\")"
   ]
  },
  {
   "cell_type": "markdown",
   "metadata": {},
   "source": [
    "The data structure of the clustering results is as follows:\n",
    "\n",
    "- **MiniLM_clustering**\n",
    "  - **K-Means**: Embeddings (DataFrame)\n",
    "  - **K-Medoids Manhattan**: Embeddings (DataFrame)\n",
    "  - **K-Medoids Cosine**: Embeddings (DataFrame)\n",
    "  - **Spectral Clustering NN**: Embeddings (DataFrame)\n",
    "  - **Spectral Clustering RBF**: Embeddings (DataFrame)"
   ]
  },
  {
   "cell_type": "code",
   "execution_count": null,
   "metadata": {},
   "outputs": [
    {
     "data": {
      "text/html": [
       "<div>\n",
       "<style scoped>\n",
       "    .dataframe tbody tr th:only-of-type {\n",
       "        vertical-align: middle;\n",
       "    }\n",
       "\n",
       "    .dataframe tbody tr th {\n",
       "        vertical-align: top;\n",
       "    }\n",
       "\n",
       "    .dataframe thead th {\n",
       "        text-align: right;\n",
       "    }\n",
       "</style>\n",
       "<table border=\"1\" class=\"dataframe\">\n",
       "  <thead>\n",
       "    <tr style=\"text-align: right;\">\n",
       "      <th></th>\n",
       "      <th>concept</th>\n",
       "      <th>clustering</th>\n",
       "    </tr>\n",
       "  </thead>\n",
       "  <tbody>\n",
       "    <tr>\n",
       "      <th>0</th>\n",
       "      <td>%C3%81ed%C3%A1n_mac_Gabr%C3%A1in</td>\n",
       "      <td>4</td>\n",
       "    </tr>\n",
       "    <tr>\n",
       "      <th>1</th>\n",
       "      <td>%C3%85land</td>\n",
       "      <td>9</td>\n",
       "    </tr>\n",
       "    <tr>\n",
       "      <th>2</th>\n",
       "      <td>%C3%89douard_Manet</td>\n",
       "      <td>8</td>\n",
       "    </tr>\n",
       "    <tr>\n",
       "      <th>3</th>\n",
       "      <td>%C3%89ire</td>\n",
       "      <td>4</td>\n",
       "    </tr>\n",
       "    <tr>\n",
       "      <th>4</th>\n",
       "      <td>%C3%93engus_I_of_the_Picts</td>\n",
       "      <td>4</td>\n",
       "    </tr>\n",
       "  </tbody>\n",
       "</table>\n",
       "</div>"
      ],
      "text/plain": [
       "                            concept  clustering\n",
       "0  %C3%81ed%C3%A1n_mac_Gabr%C3%A1in           4\n",
       "1                        %C3%85land           9\n",
       "2                %C3%89douard_Manet           8\n",
       "3                         %C3%89ire           4\n",
       "4        %C3%93engus_I_of_the_Picts           4"
      ]
     },
     "execution_count": 4,
     "metadata": {},
     "output_type": "execute_result"
    }
   ],
   "source": [
    "# A sample of clustering results\n",
    "MiniLM_clustering['K-Means'].head(5)"
   ]
  },
  {
   "cell_type": "markdown",
   "metadata": {},
   "source": [
    "## 2.3 Evaluate the clustering results"
   ]
  },
  {
   "cell_type": "markdown",
   "metadata": {},
   "source": [
    "### 2.3.1 Clustering Consistency"
   ]
  },
  {
   "cell_type": "code",
   "execution_count": 12,
   "metadata": {},
   "outputs": [
    {
     "data": {
      "text/html": [
       "<div>\n",
       "<style scoped>\n",
       "    .dataframe tbody tr th:only-of-type {\n",
       "        vertical-align: middle;\n",
       "    }\n",
       "\n",
       "    .dataframe tbody tr th {\n",
       "        vertical-align: top;\n",
       "    }\n",
       "\n",
       "    .dataframe thead th {\n",
       "        text-align: right;\n",
       "    }\n",
       "</style>\n",
       "<table border=\"1\" class=\"dataframe\">\n",
       "  <thead>\n",
       "    <tr style=\"text-align: right;\">\n",
       "      <th></th>\n",
       "      <th>Average ARI</th>\n",
       "      <th>Average NMI</th>\n",
       "    </tr>\n",
       "  </thead>\n",
       "  <tbody>\n",
       "    <tr>\n",
       "      <th>MiniLM</th>\n",
       "      <td>0.142308</td>\n",
       "      <td>0.234504</td>\n",
       "    </tr>\n",
       "    <tr>\n",
       "      <th>mpnet</th>\n",
       "      <td>0.147835</td>\n",
       "      <td>0.317228</td>\n",
       "    </tr>\n",
       "    <tr>\n",
       "      <th>roberta</th>\n",
       "      <td>0.108579</td>\n",
       "      <td>0.234504</td>\n",
       "    </tr>\n",
       "  </tbody>\n",
       "</table>\n",
       "</div>"
      ],
      "text/plain": [
       "         Average ARI  Average NMI\n",
       "MiniLM      0.142308     0.234504\n",
       "mpnet       0.147835     0.317228\n",
       "roberta     0.108579     0.234504"
      ]
     },
     "execution_count": 12,
     "metadata": {},
     "output_type": "execute_result"
    }
   ],
   "source": [
    "# Extract clustering results from each DataFrame's 'clustering' column and store in a list\n",
    "MiniLM_list = [df['clustering'].tolist() for df in MiniLM_clustering.values()]\n",
    "mpnet_list = [df['clustering'].tolist() for df in mpnet_clustering.values()]\n",
    "roberta_list = [df['clustering'].tolist() for df in roberta_clustering.values()]\n",
    "\n",
    "# Calculate average clustering consistency for each embedding\n",
    "MiniLM_ari, MiniLM_nmi = calculate_clustering_consistency(MiniLM_list)\n",
    "mpnet_ari, mpnet_nmi = calculate_clustering_consistency(mpnet_list)\n",
    "roberta_ari, MiniLM_nmi = calculate_clustering_consistency(roberta_list)\n",
    "\n",
    "# Show the result \n",
    "clustering_consistency = pd.DataFrame({\n",
    "    'Average ARI': [MiniLM_ari, mpnet_ari, roberta_ari],\n",
    "    'Average NMI': [MiniLM_nmi, mpnet_nmi, MiniLM_nmi]\n",
    "})\n",
    "clustering_consistency.index = ['MiniLM', 'mpnet', 'roberta']\n",
    "\n",
    "clustering_consistency"
   ]
  },
  {
   "cell_type": "markdown",
   "metadata": {},
   "source": [
    "- **ARI** and **NMI** are two methods used to evaluate consistency across different clustering results.\n",
    "- **Adjusted Rand Index (ARI):** ARI measures the similarity between two clustering results by considering pairs of points and evaluating how consistently they are grouped across different clusters. (Range: [-1, 1])\n",
    "- **Normalized Mutual Information (NMI):** NMI evaluates the amount of shared information between two clustering results, assessing how well one clustering result predicts the other. (Range: [0, 1])\n",
    "- **Embeddings generated by mpnet** shows the highest scores for both Average ARI (0.147835) and Average NMI (0.317228), indicating the best consistency and stability among the models."
   ]
  },
  {
   "cell_type": "markdown",
   "metadata": {},
   "source": [
    "### 2.3.2 Category-Cluster Mapping and Accuracy Evaluation"
   ]
  },
  {
   "cell_type": "code",
   "execution_count": 8,
   "metadata": {},
   "outputs": [
    {
     "data": {
      "text/html": [
       "<div>\n",
       "<style scoped>\n",
       "    .dataframe tbody tr th:only-of-type {\n",
       "        vertical-align: middle;\n",
       "    }\n",
       "\n",
       "    .dataframe tbody tr th {\n",
       "        vertical-align: top;\n",
       "    }\n",
       "\n",
       "    .dataframe thead th {\n",
       "        text-align: right;\n",
       "    }\n",
       "</style>\n",
       "<table border=\"1\" class=\"dataframe\">\n",
       "  <thead>\n",
       "    <tr style=\"text-align: right;\">\n",
       "      <th></th>\n",
       "      <th>concept</th>\n",
       "      <th>primary_category</th>\n",
       "    </tr>\n",
       "  </thead>\n",
       "  <tbody>\n",
       "    <tr>\n",
       "      <th>0</th>\n",
       "      <td>12th_century</td>\n",
       "      <td>History</td>\n",
       "    </tr>\n",
       "    <tr>\n",
       "      <th>1</th>\n",
       "      <td>13th_century</td>\n",
       "      <td>History</td>\n",
       "    </tr>\n",
       "    <tr>\n",
       "      <th>2</th>\n",
       "      <td>14th_century</td>\n",
       "      <td>History</td>\n",
       "    </tr>\n",
       "    <tr>\n",
       "      <th>3</th>\n",
       "      <td>15th_Marine_Expeditionary_Unit</td>\n",
       "      <td>History</td>\n",
       "    </tr>\n",
       "    <tr>\n",
       "      <th>4</th>\n",
       "      <td>15th_century</td>\n",
       "      <td>History</td>\n",
       "    </tr>\n",
       "  </tbody>\n",
       "</table>\n",
       "</div>"
      ],
      "text/plain": [
       "                          concept primary_category\n",
       "0                    12th_century          History\n",
       "1                    13th_century          History\n",
       "2                    14th_century          History\n",
       "3  15th_Marine_Expeditionary_Unit          History\n",
       "4                    15th_century          History"
      ]
     },
     "execution_count": 8,
     "metadata": {},
     "output_type": "execute_result"
    }
   ],
   "source": [
    "# Get primary categories for concepts and show the head\n",
    "primary_category = get_primary_category(category_file)\n",
    "primary_category.head(5)"
   ]
  },
  {
   "cell_type": "code",
   "execution_count": null,
   "metadata": {},
   "outputs": [
    {
     "name": "stdout",
     "output_type": "stream",
     "text": [
      "------Clustering accuracy for MiniLM_L6_v2 embeddings:\n",
      "K-Means: 0.31\n",
      "K-Medoids with Manhattan: 0.20\n",
      "K-Medoids with Cosine: 0.23\n",
      "Spectral Clustering with NN: 0.37\n",
      "------Clustering accuracy for mpnet_base_v2 embeddings:\n",
      "K-Means: 0.38\n",
      "K-Medoids with Manhattan: 0.27\n",
      "K-Medoids with Cosine: 0.23\n",
      "Spectral Clustering with NN: 0.35\n",
      "------Clustering accuracy for roberta embeddings:\n",
      "K-Means: 0.30\n",
      "K-Medoids with Manhattan: 0.22\n",
      "K-Medoids with Cosine: 0.17\n",
      "Spectral Clustering with NN: 0.42\n"
     ]
    }
   ],
   "source": [
    "# Set dicts to save the mapping results\n",
    "MiniLM_evaluation = {}\n",
    "mpnet_evaluation = {}\n",
    "roberta_evaluation = {}\n",
    "\n",
    "# evaluation on MiniLM_L6_v2\n",
    "print(\"------Clustering accuracy for MiniLM_L6_v2 embeddings:\")\n",
    "for key, value in MiniLM_clustering.items():\n",
    "    cluster_category_mapping, accuracy = map_clustering_category(primary_category, value)\n",
    "    MiniLM_evaluation['key'] = cluster_category_mapping\n",
    "    print(f\"{key}: {accuracy:.2f}\")\n",
    "\n",
    "# evaluation on mpnet_base_v2\n",
    "print(\"------Clustering accuracy for mpnet_base_v2 embeddings:\")\n",
    "for key, value in mpnet_clustering.items():\n",
    "    cluster_category_mapping, accuracy = map_clustering_category(primary_category, value)\n",
    "    mpnet_evaluation['key'] = cluster_category_mapping\n",
    "    print(f\"{key}: {accuracy:.2f}\")\n",
    "\n",
    "# evaluation on mpnet_base_v2\n",
    "print(\"------Clustering accuracy for roberta embeddings:\")\n",
    "for key, value in roberta_clustering.items():\n",
    "    cluster_category_mapping, accuracy = map_clustering_category(primary_category, value)\n",
    "    roberta_evaluation['key'] = cluster_category_mapping\n",
    "    print(f\"{key}: {accuracy:.2f}\")"
   ]
  },
  {
   "cell_type": "markdown",
   "metadata": {},
   "source": [
    "- Among all embedding models, mpnet shows the highest degree of alignment with the original primary categories."
   ]
  },
  {
   "cell_type": "code",
   "execution_count": null,
   "metadata": {},
   "outputs": [],
   "source": []
  }
 ],
 "metadata": {
  "kernelspec": {
   "display_name": "ada",
   "language": "python",
   "name": "python3"
  },
  "language_info": {
   "codemirror_mode": {
    "name": "ipython",
    "version": 3
   },
   "file_extension": ".py",
   "mimetype": "text/x-python",
   "name": "python",
   "nbconvert_exporter": "python",
   "pygments_lexer": "ipython3",
   "version": "3.10.15"
  }
 },
 "nbformat": 4,
 "nbformat_minor": 2
}
